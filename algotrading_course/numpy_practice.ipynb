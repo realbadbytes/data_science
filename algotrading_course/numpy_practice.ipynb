{
 "cells": [
  {
   "cell_type": "code",
   "execution_count": 1,
   "metadata": {},
   "outputs": [
    {
     "data": {
      "text/plain": [
       "array([ 5,  6,  7,  8,  9, 10])"
      ]
     },
     "execution_count": 1,
     "metadata": {},
     "output_type": "execute_result"
    }
   ],
   "source": [
    "# numpy\n",
    "import numpy as np\n",
    "# why use numpy - memory efficiency, optimized for mathematical ops, tons of built in functionality\n",
    "\n",
    "list_a = [5, 6, 7, 8, 9, 10]\n",
    "# transform this to an np array\n",
    "np.array(list_a)"
   ]
  },
  {
   "cell_type": "code",
   "execution_count": 2,
   "metadata": {},
   "outputs": [
    {
     "data": {
      "text/plain": [
       "list"
      ]
     },
     "execution_count": 2,
     "metadata": {},
     "output_type": "execute_result"
    }
   ],
   "source": [
    "type(list_a)"
   ]
  },
  {
   "cell_type": "code",
   "execution_count": 3,
   "metadata": {},
   "outputs": [
    {
     "data": {
      "text/plain": [
       "numpy.ndarray"
      ]
     },
     "execution_count": 3,
     "metadata": {},
     "output_type": "execute_result"
    }
   ],
   "source": [
    "arr = np.array(list_a)\n",
    "type(arr)"
   ]
  },
  {
   "cell_type": "code",
   "execution_count": 4,
   "metadata": {},
   "outputs": [
    {
     "data": {
      "text/plain": [
       "array([0, 1, 2, 3, 4, 5, 6, 7, 8, 9])"
      ]
     },
     "execution_count": 4,
     "metadata": {},
     "output_type": "execute_result"
    }
   ],
   "source": [
    "# function arange()\n",
    "# shift-tab in brackets for func prototype\n",
    "array_1 = np.arange(0, 10)\n",
    "array_1"
   ]
  },
  {
   "cell_type": "code",
   "execution_count": 5,
   "metadata": {},
   "outputs": [
    {
     "data": {
      "text/plain": [
       "array([0, 3, 6, 9])"
      ]
     },
     "execution_count": 5,
     "metadata": {},
     "output_type": "execute_result"
    }
   ],
   "source": [
    "array_1 = np.arange(0, 10, 3)\n",
    "array_1"
   ]
  },
  {
   "cell_type": "code",
   "execution_count": 6,
   "metadata": {},
   "outputs": [
    {
     "data": {
      "text/plain": [
       "array([[1., 1., 1.],\n",
       "       [1., 1., 1.],\n",
       "       [1., 1., 1.],\n",
       "       [1., 1., 1.],\n",
       "       [1., 1., 1.],\n",
       "       [1., 1., 1.],\n",
       "       [1., 1., 1.]])"
      ]
     },
     "execution_count": 6,
     "metadata": {},
     "output_type": "execute_result"
    }
   ],
   "source": [
    "# creating matrices of 0,1\n",
    "size = (7,3)\n",
    "matrix = np.ones(size)\n",
    "matrix"
   ]
  },
  {
   "cell_type": "code",
   "execution_count": 7,
   "metadata": {},
   "outputs": [
    {
     "data": {
      "text/plain": [
       "array([[0., 0., 0., 0., 0., 0., 0., 0., 0., 0.],\n",
       "       [0., 0., 0., 0., 0., 0., 0., 0., 0., 0.],\n",
       "       [0., 0., 0., 0., 0., 0., 0., 0., 0., 0.],\n",
       "       [0., 0., 0., 0., 0., 0., 0., 0., 0., 0.],\n",
       "       [0., 0., 0., 0., 0., 0., 0., 0., 0., 0.],\n",
       "       [0., 0., 0., 0., 0., 0., 0., 0., 0., 0.],\n",
       "       [0., 0., 0., 0., 0., 0., 0., 0., 0., 0.],\n",
       "       [0., 0., 0., 0., 0., 0., 0., 0., 0., 0.],\n",
       "       [0., 0., 0., 0., 0., 0., 0., 0., 0., 0.],\n",
       "       [0., 0., 0., 0., 0., 0., 0., 0., 0., 0.]])"
      ]
     },
     "execution_count": 7,
     "metadata": {},
     "output_type": "execute_result"
    }
   ],
   "source": [
    "matrix = np.zeros((10,10))\n",
    "matrix"
   ]
  },
  {
   "cell_type": "code",
   "execution_count": 8,
   "metadata": {},
   "outputs": [
    {
     "data": {
      "text/plain": [
       "array([[ 1, 36, 24],\n",
       "       [28, 37, 12],\n",
       "       [19, 43, 32],\n",
       "       [20, 15, 12],\n",
       "       [26, 42,  3],\n",
       "       [10, 42, 13],\n",
       "       [48, 27, 22]])"
      ]
     },
     "execution_count": 8,
     "metadata": {},
     "output_type": "execute_result"
    }
   ],
   "source": [
    "# random matrix\n",
    "# (low, high, dims)\n",
    "rnd = np.random.randint(0, 50, (7,3))\n",
    "rnd"
   ]
  },
  {
   "cell_type": "code",
   "execution_count": 9,
   "metadata": {},
   "outputs": [
    {
     "data": {
      "text/plain": [
       "array([ 0.        ,  0.12121212,  0.24242424,  0.36363636,  0.48484848,\n",
       "        0.60606061,  0.72727273,  0.84848485,  0.96969697,  1.09090909,\n",
       "        1.21212121,  1.33333333,  1.45454545,  1.57575758,  1.6969697 ,\n",
       "        1.81818182,  1.93939394,  2.06060606,  2.18181818,  2.3030303 ,\n",
       "        2.42424242,  2.54545455,  2.66666667,  2.78787879,  2.90909091,\n",
       "        3.03030303,  3.15151515,  3.27272727,  3.39393939,  3.51515152,\n",
       "        3.63636364,  3.75757576,  3.87878788,  4.        ,  4.12121212,\n",
       "        4.24242424,  4.36363636,  4.48484848,  4.60606061,  4.72727273,\n",
       "        4.84848485,  4.96969697,  5.09090909,  5.21212121,  5.33333333,\n",
       "        5.45454545,  5.57575758,  5.6969697 ,  5.81818182,  5.93939394,\n",
       "        6.06060606,  6.18181818,  6.3030303 ,  6.42424242,  6.54545455,\n",
       "        6.66666667,  6.78787879,  6.90909091,  7.03030303,  7.15151515,\n",
       "        7.27272727,  7.39393939,  7.51515152,  7.63636364,  7.75757576,\n",
       "        7.87878788,  8.        ,  8.12121212,  8.24242424,  8.36363636,\n",
       "        8.48484848,  8.60606061,  8.72727273,  8.84848485,  8.96969697,\n",
       "        9.09090909,  9.21212121,  9.33333333,  9.45454545,  9.57575758,\n",
       "        9.6969697 ,  9.81818182,  9.93939394, 10.06060606, 10.18181818,\n",
       "       10.3030303 , 10.42424242, 10.54545455, 10.66666667, 10.78787879,\n",
       "       10.90909091, 11.03030303, 11.15151515, 11.27272727, 11.39393939,\n",
       "       11.51515152, 11.63636364, 11.75757576, 11.87878788, 12.        ])"
      ]
     },
     "execution_count": 9,
     "metadata": {},
     "output_type": "execute_result"
    }
   ],
   "source": [
    "# create linearly spaced array\n",
    "# ax+b defines linear, need same space between the values\n",
    "# good for testing, constant slope\n",
    "# provide (a, b, numvals)\n",
    "# Return evenly spaced numbers over a specified interval.\n",
    "lin = np.linspace(0, 12, num=100)\n",
    "lin"
   ]
  },
  {
   "cell_type": "code",
   "execution_count": 10,
   "metadata": {},
   "outputs": [
    {
     "name": "stdout",
     "output_type": "stream",
     "text": [
      "999\n",
      "2\n",
      "513.325\n",
      "274.00696957376834\n",
      "75079.819375\n",
      "75079.819375\n"
     ]
    }
   ],
   "source": [
    "# simple ops\n",
    "arr = np.random.randint(0, 1000, 80)\n",
    "print(arr.max())\n",
    "print(arr.min())\n",
    "print(arr.mean())\n",
    "print(arr.std())\n",
    "print(arr.var())\n",
    "print(arr.std()**2)"
   ]
  },
  {
   "cell_type": "markdown",
   "metadata": {},
   "source": [
    "the variance is equal to the square of standard deviation"
   ]
  },
  {
   "cell_type": "code",
   "execution_count": 14,
   "metadata": {},
   "outputs": [
    {
     "name": "stdout",
     "output_type": "stream",
     "text": [
      "[579 770 342  91  90 874 202 624 201  20 173 757 412 977 283 310 284 325\n",
      " 317 696 844 284 801 620]\n",
      "\n",
      " [[579 770 342  91]\n",
      " [ 90 874 202 624]\n",
      " [201  20 173 757]\n",
      " [412 977 283 310]\n",
      " [284 325 317 696]\n",
      " [844 284 801 620]]\n",
      "\n",
      " [[[579 770 342  91]\n",
      "  [ 90 874 202 624]]\n",
      "\n",
      " [[201  20 173 757]\n",
      "  [412 977 283 310]]\n",
      "\n",
      " [[284 325 317 696]\n",
      "  [844 284 801 620]]]\n"
     ]
    }
   ],
   "source": [
    "# 2d and 3d arrays, Nd arrays\n",
    "arr = np.random.randint(0, 1000, 24)\n",
    "print(arr) # 1 row, 24 columns\n",
    "mat = arr.reshape(6,4) #transform into different dimensions, retain values, values must multiply to current shape\n",
    "print('\\n',mat)\n",
    "mat = arr.reshape(3,2,4)\n",
    "print('\\n', mat)"
   ]
  },
  {
   "cell_type": "code",
   "execution_count": 12,
   "metadata": {},
   "outputs": [
    {
     "name": "stdout",
     "output_type": "stream",
     "text": [
      "818\n",
      "[659 818 736 837 522 932 535 973 750 892 643 522 916 972 527 503 981 949\n",
      " 945]\n"
     ]
    }
   ],
   "source": [
    "# Filtering and locating values in array\n",
    "print(mat[0, 1])\n",
    "mat>100 #return array of booleans of which elements are greater than 100\n",
    "mat = mat[mat>500] #cull all values less than 100, make new array with one row\n",
    "print(mat)"
   ]
  },
  {
   "cell_type": "code",
   "execution_count": 13,
   "metadata": {},
   "outputs": [
    {
     "data": {
      "text/plain": [
       "array([91, 31, 99, 44, 39, 77, 58, 45, 10, 74])"
      ]
     },
     "execution_count": 13,
     "metadata": {},
     "output_type": "execute_result"
    }
   ],
   "source": [
    "# Seed function\n",
    "np.random.seed(707) # the \"random\" output will always remain the same. Seed sets up the psuedorandom generator\n",
    "# good for having consistent testing arrays. PRNG has a starting state that determines all following states\n",
    "random_matrix = np.random.randint(0,100,10)\n",
    "random_matrix"
   ]
  },
  {
   "cell_type": "code",
   "execution_count": null,
   "metadata": {},
   "outputs": [],
   "source": []
  }
 ],
 "metadata": {
  "kernelspec": {
   "display_name": "Python 3",
   "language": "python",
   "name": "python3"
  },
  "language_info": {
   "codemirror_mode": {
    "name": "ipython",
    "version": 3
   },
   "file_extension": ".py",
   "mimetype": "text/x-python",
   "name": "python",
   "nbconvert_exporter": "python",
   "pygments_lexer": "ipython3",
   "version": "3.6.9"
  }
 },
 "nbformat": 4,
 "nbformat_minor": 4
}
